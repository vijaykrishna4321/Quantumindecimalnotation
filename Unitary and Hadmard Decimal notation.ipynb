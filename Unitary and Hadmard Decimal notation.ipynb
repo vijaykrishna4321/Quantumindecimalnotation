{
 "cells": [
  {
   "cell_type": "markdown",
   "id": "a8be60f3-4f90-4654-915c-91fc99489d2a",
   "metadata": {},
   "source": [
    "In this program we are attempting to code Unitary operator and Hadmard gate without using Qunatum or Qiskit"
   ]
  },
  {
   "cell_type": "code",
   "execution_count": 1,
   "id": "1f60644a-515a-42dd-be69-430371db5ee7",
   "metadata": {},
   "outputs": [
    {
     "name": "stdout",
     "output_type": "stream",
     "text": [
      "Unitary applied to OFF state: [ 0.8 -0.6]\n",
      "Unitary applied to ON state: [0.6 0.8]\n",
      "Hadamard applied to OFF state: [0.70710678 0.70710678]\n",
      "Hadamard applied to ON state: [ 0.70710678 -0.70710678]\n"
     ]
    }
   ],
   "source": [
    "import numpy as np\n",
    "\n",
    "def apply_unitary(U, state):\n",
    "    \"\"\"Applies a given 2x2 unitary matrix U to a state vector.\"\"\"\n",
    "    return np.dot(U, state)\n",
    "\n",
    "# Example Unitary Matrix (User-defined)\n",
    "U = np.array([[0.8, 0.6], [-0.6, 0.8]])  # Example unitary matrix\n",
    "\n",
    "# Off State (|0⟩)\n",
    "off_state = np.array([1, 0])\n",
    "result_off = apply_unitary(U, off_state)\n",
    "print(\"Unitary applied to OFF state:\", result_off)\n",
    "\n",
    "# On State (|1⟩)\n",
    "on_state = np.array([0, 1])\n",
    "result_on = apply_unitary(U, on_state)\n",
    "print(\"Unitary applied to ON state:\", result_on)\n",
    "\n",
    "# Hadamard Transformation\n",
    "H = (1/np.sqrt(2)) * np.array([[1, 1], [1, -1]])\n",
    "\n",
    "def apply_hadamard(state):\n",
    "    \"\"\"Applies Hadamard gate to a state.\"\"\"\n",
    "    return np.dot(H, state)\n",
    "\n",
    "# Applying Hadamard to OFF state\n",
    "result_h_off = apply_hadamard(off_state)\n",
    "print(\"Hadamard applied to OFF state:\", result_h_off)\n",
    "\n",
    "# Applying Hadamard to ON state\n",
    "result_h_on = apply_hadamard(on_state)\n",
    "print(\"Hadamard applied to ON state:\", result_h_on)\n"
   ]
  },
  {
   "cell_type": "code",
   "execution_count": null,
   "id": "8e2d2ea2-fbd0-44a4-b1d0-ea057c74046e",
   "metadata": {},
   "outputs": [],
   "source": []
  }
 ],
 "metadata": {
  "kernelspec": {
   "display_name": "Python 3 (ipykernel)",
   "language": "python",
   "name": "python3"
  },
  "language_info": {
   "codemirror_mode": {
    "name": "ipython",
    "version": 3
   },
   "file_extension": ".py",
   "mimetype": "text/x-python",
   "name": "python",
   "nbconvert_exporter": "python",
   "pygments_lexer": "ipython3",
   "version": "3.12.8"
  }
 },
 "nbformat": 4,
 "nbformat_minor": 5
}
