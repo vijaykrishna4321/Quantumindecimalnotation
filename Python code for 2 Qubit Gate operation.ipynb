{
 "cells": [
  {
   "cell_type": "code",
   "execution_count": 1,
   "id": "95db3188-d08e-4f3d-8b7b-a97acf653990",
   "metadata": {},
   "outputs": [
    {
     "name": "stdout",
     "output_type": "stream",
     "text": [
      "Applying U to |0⟩: [0.8 0.6]\n",
      "Applying U to |1⟩: [ 0.6 -0.8]\n"
     ]
    }
   ],
   "source": [
    "import numpy as np\n",
    "\n",
    "class TwoQubitGate:\n",
    "    def __init__(self, U):\n",
    "        \"\"\"\n",
    "        Initialize with a 2x2 unitary matrix U\n",
    "        \"\"\"\n",
    "        self.U = U\n",
    "\n",
    "    def apply(self, state):\n",
    "        \"\"\"\n",
    "        Applies the unitary transformation to the given 2-qubit state.\n",
    "        \"\"\"\n",
    "        new_state = np.dot(self.U, state)\n",
    "        return new_state\n",
    "\n",
    "# Define a sample 2x2 unitary matrix U\n",
    "U = np.array([[0.8, 0.6],  \n",
    "              [0.6, -0.8]])\n",
    "\n",
    "# Define the computational basis states |0⟩ and |1⟩\n",
    "state_0 = np.array([1, 0])  # |0⟩\n",
    "state_1 = np.array([0, 1])  # |1⟩\n",
    "\n",
    "# Create the TwoQubitGate instance\n",
    "gate = TwoQubitGate(U)\n",
    "\n",
    "# Apply the gate on basis states\n",
    "result_0 = gate.apply(state_0)  # U |0⟩\n",
    "result_1 = gate.apply(state_1)  # U |1⟩\n",
    "\n",
    "# Print results\n",
    "print(\"Applying U to |0⟩:\", result_0)\n",
    "print(\"Applying U to |1⟩:\", result_1)"
   ]
  },
  {
   "cell_type": "code",
   "execution_count": null,
   "id": "e1b0e7d8-6392-4c98-ba85-0a032bede0a1",
   "metadata": {},
   "outputs": [],
   "source": []
  }
 ],
 "metadata": {
  "kernelspec": {
   "display_name": "Python 3 (ipykernel)",
   "language": "python",
   "name": "python3"
  },
  "language_info": {
   "codemirror_mode": {
    "name": "ipython",
    "version": 3
   },
   "file_extension": ".py",
   "mimetype": "text/x-python",
   "name": "python",
   "nbconvert_exporter": "python",
   "pygments_lexer": "ipython3",
   "version": "3.12.8"
  }
 },
 "nbformat": 4,
 "nbformat_minor": 5
}
