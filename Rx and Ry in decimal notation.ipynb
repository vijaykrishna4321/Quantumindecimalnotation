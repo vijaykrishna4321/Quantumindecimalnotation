{
 "cells": [
  {
   "cell_type": "code",
   "execution_count": null,
   "id": "c895ccad-45d5-439b-9259-e04f868e9895",
   "metadata": {},
   "outputs": [],
   "source": [
    "rotation gates (Rx and Ry) on a single qubit, assuming the initial states |0⟩ and |1⟩ separately.\n",
    "Reference\n",
    "https://www.youtube.com/watch?v=hPtKTLVtRjA&t=1550s"
   ]
  },
  {
   "cell_type": "code",
   "execution_count": 1,
   "id": "d8465dd4-51c6-4eff-a108-00c821fcc9aa",
   "metadata": {},
   "outputs": [],
   "source": [
    "import numpy as np"
   ]
  },
  {
   "cell_type": "code",
   "execution_count": 3,
   "id": "723c8dcc-e6b6-45df-9f38-04236294f32a",
   "metadata": {},
   "outputs": [],
   "source": [
    "class RxGate:\n",
    "    def __init__(self, theta):\n",
    "        self.theta = theta\n",
    "        self.matrix = np.array([\n",
    "            [np.cos(theta/2), -1j * np.sin(theta/2)],\n",
    "            [-1j * np.sin(theta/2), np.cos(theta/2)]\n",
    "        ])\n",
    "    \n",
    "    def apply(self, state):\n",
    "        return np.dot(self.matrix, state)"
   ]
  },
  {
   "cell_type": "code",
   "execution_count": 4,
   "id": "1e4ca243-95f9-4638-8dc7-3e3c389d54e7",
   "metadata": {},
   "outputs": [],
   "source": [
    "class RyGate:\n",
    "    def __init__(self, theta):\n",
    "        self.theta = theta\n",
    "        self.matrix = np.array([\n",
    "            [np.cos(theta/2), -np.sin(theta/2)],\n",
    "            [np.sin(theta/2), np.cos(theta/2)]\n",
    "        ])\n",
    "    \n",
    "    def apply(self, state):\n",
    "        return np.dot(self.matrix, state)"
   ]
  },
  {
   "cell_type": "code",
   "execution_count": 5,
   "id": "24ab5822-a5fd-4d29-9d47-77ae373d4837",
   "metadata": {},
   "outputs": [],
   "source": [
    "# Define basis states |0> and |1>\n",
    "ket_0 = np.array([1, 0])\n",
    "ket_1 = np.array([0, 1])\n",
    "\n",
    "# Example: Apply Rx and Ry with theta = pi/4\n",
    "theta = np.pi / 4\n",
    "rx = RxGate(theta)\n",
    "ry = RyGate(theta)"
   ]
  },
  {
   "cell_type": "code",
   "execution_count": 6,
   "id": "e9a9e71c-5420-4ce2-b571-01310e335152",
   "metadata": {},
   "outputs": [
    {
     "name": "stdout",
     "output_type": "stream",
     "text": [
      "Applying Rx(π/4) to |0⟩: [0.92387953+0.j         0.        -0.38268343j]\n",
      "Applying Rx(π/4) to |1⟩: [0.        -0.38268343j 0.92387953+0.j        ]\n",
      "Applying Ry(π/4) to |0⟩: [0.92387953 0.38268343]\n",
      "Applying Ry(π/4) to |1⟩: [-0.38268343  0.92387953]\n"
     ]
    }
   ],
   "source": [
    "print(\"Applying Rx(π/4) to |0⟩:\", rx.apply(ket_0))\n",
    "print(\"Applying Rx(π/4) to |1⟩:\", rx.apply(ket_1))\n",
    "print(\"Applying Ry(π/4) to |0⟩:\", ry.apply(ket_0))\n",
    "print(\"Applying Ry(π/4) to |1⟩:\", ry.apply(ket_1))"
   ]
  },
  {
   "cell_type": "code",
   "execution_count": null,
   "id": "58bfdebe-1a8a-49fe-873c-57417558fec4",
   "metadata": {},
   "outputs": [],
   "source": []
  }
 ],
 "metadata": {
  "kernelspec": {
   "display_name": "Python 3 (ipykernel)",
   "language": "python",
   "name": "python3"
  },
  "language_info": {
   "codemirror_mode": {
    "name": "ipython",
    "version": 3
   },
   "file_extension": ".py",
   "mimetype": "text/x-python",
   "name": "python",
   "nbconvert_exporter": "python",
   "pygments_lexer": "ipython3",
   "version": "3.12.8"
  }
 },
 "nbformat": 4,
 "nbformat_minor": 5
}
