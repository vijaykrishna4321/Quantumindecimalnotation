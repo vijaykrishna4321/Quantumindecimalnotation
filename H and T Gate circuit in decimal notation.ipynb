{
 "cells": [
  {
   "cell_type": "code",
   "execution_count": 1,
   "id": "27bbcefa-0878-4259-9436-9804ce148b1a",
   "metadata": {},
   "outputs": [],
   "source": [
    "import numpy as np"
   ]
  },
  {
   "cell_type": "code",
   "execution_count": 2,
   "id": "64191757-4574-4bf7-a96a-07e7ae70ea03",
   "metadata": {},
   "outputs": [],
   "source": [
    "def hadamard():\n",
    "    return (1/np.sqrt(2)) * np.array([[1, 1], [1, -1]])"
   ]
  },
  {
   "cell_type": "code",
   "execution_count": 3,
   "id": "3dd76c08-e4c8-4e0e-ae2f-a5dc83d01d57",
   "metadata": {},
   "outputs": [],
   "source": [
    "def t_gate():\n",
    "    return np.array([[1, 0], [0, np.exp(1j * np.pi / 4)]])\n"
   ]
  },
  {
   "cell_type": "code",
   "execution_count": 4,
   "id": "1e87bafa-cf5c-4140-8706-d8c1980b4393",
   "metadata": {},
   "outputs": [],
   "source": [
    "# Define the decimal representation for qubits\n",
    "# Assume qubit states |0> = 0 and |1> = 1\n",
    "\n",
    "# Apply H on qubit 1\n",
    "H1 = hadamard()\n",
    "\n",
    "# Apply T on qubit 0\n",
    "T0 = t_gate()"
   ]
  },
  {
   "cell_type": "code",
   "execution_count": 5,
   "id": "5cb9c1da-1fc6-48fb-a8a9-d3eba501ebd8",
   "metadata": {},
   "outputs": [
    {
     "name": "stdout",
     "output_type": "stream",
     "text": [
      "Hadamard Gate on Qubit 1:\n",
      "[[ 0.707  0.707]\n",
      " [ 0.707 -0.707]]\n",
      "\n",
      "T Gate on Qubit 0:\n",
      "[[1.   +0.j    0.   +0.j   ]\n",
      " [0.   +0.j    0.707+0.707j]]\n"
     ]
    }
   ],
   "source": [
    "# Display the matrices in decimal notation\n",
    "print(\"Hadamard Gate on Qubit 1:\")\n",
    "print(np.round(H1, 3))\n",
    "print(\"\\nT Gate on Qubit 0:\")\n",
    "print(np.round(T0, 3))"
   ]
  },
  {
   "cell_type": "code",
   "execution_count": null,
   "id": "40000525-ef5b-4354-919c-9be90a8b6648",
   "metadata": {},
   "outputs": [],
   "source": []
  }
 ],
 "metadata": {
  "kernelspec": {
   "display_name": "Python 3 (ipykernel)",
   "language": "python",
   "name": "python3"
  },
  "language_info": {
   "codemirror_mode": {
    "name": "ipython",
    "version": 3
   },
   "file_extension": ".py",
   "mimetype": "text/x-python",
   "name": "python",
   "nbconvert_exporter": "python",
   "pygments_lexer": "ipython3",
   "version": "3.12.8"
  }
 },
 "nbformat": 4,
 "nbformat_minor": 5
}
