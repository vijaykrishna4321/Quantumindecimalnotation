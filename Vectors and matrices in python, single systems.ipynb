{
 "cells": [
  {
   "cell_type": "markdown",
   "id": "a13379e8-25f2-4efd-89c6-eee9f55f7b55",
   "metadata": {},
   "source": [
    "Qiskit uses the Python programming language, so before discussing Qiskit specifically it may be helpful to very briefly discuss matrix and vector computations in Python. In Python, matrix and vector computations can be performed using the array class from the NumPy library (which includes many additional components for numerical computation).\n",
    "\n",
    "Here is an example of a code cell that defines two vectors, ket0 and ket1 , corresponding to the qubit state vectors \n",
    "∣\n",
    "0\n",
    "⟩\n",
    "∣0⟩ and \n",
    "∣\n",
    "1\n",
    "⟩\n",
    ",\n",
    "∣1⟩, and displays their average."
   ]
  },
  {
   "cell_type": "code",
   "execution_count": 1,
   "id": "77e55d17-0832-40c1-92ae-ef5c6dd1b7f0",
   "metadata": {},
   "outputs": [],
   "source": [
    "from numpy import array"
   ]
  },
  {
   "cell_type": "code",
   "execution_count": 2,
   "id": "23b15848-3b03-4709-8a59-181e9c5287b7",
   "metadata": {},
   "outputs": [],
   "source": [
    "ket0 = array([1,0])\n",
    "ket1 = array([0,1])"
   ]
  },
  {
   "cell_type": "code",
   "execution_count": 3,
   "id": "6652adde-7cac-46aa-82f7-0838c1e3e2c7",
   "metadata": {},
   "outputs": [
    {
     "data": {
      "text/plain": [
       "array([0.5, 0.5])"
      ]
     },
     "metadata": {},
     "output_type": "display_data"
    }
   ],
   "source": [
    "display(ket0/2 + ket1/2)"
   ]
  },
  {
   "cell_type": "markdown",
   "id": "aa27f79e-e52d-45be-a606-8b7ec49a8604",
   "metadata": {},
   "source": [
    "Defining arrays and another way to print arrays without us"
   ]
  },
  {
   "cell_type": "code",
   "execution_count": 4,
   "id": "bc228f98-5b49-4832-a043-941b4a4e9802",
   "metadata": {},
   "outputs": [],
   "source": [
    "M1 = array([[1,1], [0,1]])\n",
    "M2 = array([[1,1], [1,0]])"
   ]
  },
  {
   "cell_type": "code",
   "execution_count": 5,
   "id": "dcb57dc1-328d-49d0-9ec6-39b03d11273e",
   "metadata": {},
   "outputs": [
    {
     "data": {
      "text/plain": [
       "array([[1. , 1. ],\n",
       "       [0.5, 0.5]])"
      ]
     },
     "execution_count": 5,
     "metadata": {},
     "output_type": "execute_result"
    }
   ],
   "source": [
    "M1/2 + M2/2"
   ]
  },
  {
   "cell_type": "code",
   "execution_count": 6,
   "id": "eadda02c-d688-47c6-b183-d227f851d9f8",
   "metadata": {},
   "outputs": [],
   "source": [
    "from numpy import matmul"
   ]
  },
  {
   "cell_type": "code",
   "execution_count": 8,
   "id": "f3096b7e-6234-46b5-87fa-f118220a17ba",
   "metadata": {},
   "outputs": [
    {
     "data": {
      "text/plain": [
       "array([1, 1])"
      ]
     },
     "metadata": {},
     "output_type": "display_data"
    },
    {
     "data": {
      "text/plain": [
       "array([[2, 1],\n",
       "       [1, 0]])"
      ]
     },
     "metadata": {},
     "output_type": "display_data"
    },
    {
     "data": {
      "text/plain": [
       "array([[1, 2],\n",
       "       [1, 1]])"
      ]
     },
     "metadata": {},
     "output_type": "display_data"
    }
   ],
   "source": [
    "display(matmul(M1, ket1))\n",
    "display(matmul(M1, M2))\n",
    "display(matmul(M2, M1))"
   ]
  },
  {
   "cell_type": "code",
   "execution_count": 9,
   "id": "c19a54c1-798b-45eb-a64a-19ee48e7446d",
   "metadata": {},
   "outputs": [],
   "source": [
    "#defining and displaying statevectors "
   ]
  },
  {
   "cell_type": "code",
   "execution_count": 11,
   "id": "1cf678e6-4c0c-48b1-8114-a055b6f13520",
   "metadata": {},
   "outputs": [],
   "source": [
    "from qiskit.quantum_info import Statevector\n",
    "from numpy import sqrt"
   ]
  },
  {
   "cell_type": "code",
   "execution_count": 12,
   "id": "fd6dae13-e158-4ca0-82e1-71fde275d345",
   "metadata": {},
   "outputs": [],
   "source": [
    "u = Statevector([1/sqrt(2), 1/sqrt(2)])\n",
    "v = Statevector([(1+2.0j)/3, -2/3])\n",
    "w = Statevector([1/3, 2/3])"
   ]
  },
  {
   "cell_type": "code",
   "execution_count": 13,
   "id": "d7cdfc19-e912-4863-a701-e9ece0960452",
   "metadata": {},
   "outputs": [
    {
     "name": "stdout",
     "output_type": "stream",
     "text": [
      "State vectors u,v and w have been defined.\n"
     ]
    }
   ],
   "source": [
    "print (\"State vectors u,v and w have been defined.\")"
   ]
  },
  {
   "cell_type": "code",
   "execution_count": 15,
   "id": "0e1c7d36-a60d-44cf-a602-8103a9ebcb36",
   "metadata": {},
   "outputs": [],
   "source": [
    "#The Statevector class provides a draw method for displaying state vectors, including latex and text options for different visualizations as per below code"
   ]
  },
  {
   "cell_type": "code",
   "execution_count": 26,
   "id": "00d08ba7-922b-45bb-b629-e3f16284a37d",
   "metadata": {},
   "outputs": [
    {
     "data": {
      "text/latex": [
       "$$\\frac{\\sqrt{2}}{2} |0\\rangle+\\frac{\\sqrt{2}}{2} |1\\rangle$$"
      ],
      "text/plain": [
       "<IPython.core.display.Latex object>"
      ]
     },
     "metadata": {},
     "output_type": "display_data"
    },
    {
     "data": {
      "text/plain": [
       "[ 0.33333333+0.66666667j,-0.66666667+0.j        ]"
      ]
     },
     "metadata": {},
     "output_type": "display_data"
    }
   ],
   "source": [
    "display(u.draw(\"latex\"))\n",
    "display(v.draw(\"text\"))"
   ]
  },
  {
   "cell_type": "markdown",
   "id": "91f859ac-d190-48c8-abce-72c2526e5e75",
   "metadata": {},
   "source": [
    "#The State vector class also includes the is_valid method, \n",
    "#which checks to see if a given vector is a valid quantum state vector (ie; that it has euclidean norm equalto 1"
   ]
  },
  {
   "cell_type": "code",
   "execution_count": 27,
   "id": "62a5f578-1c7a-47f5-b588-5aa11ff16ed5",
   "metadata": {},
   "outputs": [
    {
     "data": {
      "text/plain": [
       "True"
      ]
     },
     "metadata": {},
     "output_type": "display_data"
    },
    {
     "data": {
      "text/plain": [
       "False"
      ]
     },
     "metadata": {},
     "output_type": "display_data"
    }
   ],
   "source": [
    "display(u.is_valid())\n",
    "display(w.is_valid())"
   ]
  },
  {
   "cell_type": "markdown",
   "id": "d59e5747-27a4-4f4b-8bda-c851b3994425",
   "metadata": {},
   "source": [
    "Simulating measurements using Statevector\n",
    "Next we will see one way that measurements of quantum states can be simulated in Qiskit, using the measure method from the statevector class."
   ]
  },
  {
   "cell_type": "markdown",
   "id": "ccac52bd-bc4f-4fca-a3c7-b4f9d2e6d02c",
   "metadata": {},
   "source": [
    "First we create a qubit state vector v and then display it."
   ]
  },
  {
   "cell_type": "code",
   "execution_count": 28,
   "id": "8cf3f830-2121-42ed-a4db-5d86e3b3680c",
   "metadata": {},
   "outputs": [
    {
     "data": {
      "text/latex": [
       "$$(\\frac{1}{3} + \\frac{2 i}{3}) |0\\rangle- \\frac{2}{3} |1\\rangle$$"
      ],
      "text/plain": [
       "<IPython.core.display.Latex object>"
      ]
     },
     "execution_count": 28,
     "metadata": {},
     "output_type": "execute_result"
    }
   ],
   "source": [
    "v = Statevector([(1+2.0j)/3, -2/3])\n",
    "v.draw(\"latex\")"
   ]
  },
  {
   "cell_type": "markdown",
   "id": "2911f1be-734a-414e-8590-37d79bef5ea3",
   "metadata": {},
   "source": [
    "Next running the measure method simulates a standard basis measurement. It returns the result of that measurement, plus the new quantum state of our system after that measurement"
   ]
  },
  {
   "cell_type": "code",
   "execution_count": 29,
   "id": "463df50d-5161-4c8f-8f86-abd3a2452bf3",
   "metadata": {},
   "outputs": [
    {
     "data": {
      "text/plain": [
       "(np.str_('1'),\n",
       " Statevector([ 0.+0.j, -1.+0.j],\n",
       "             dims=(2,)))"
      ]
     },
     "execution_count": 29,
     "metadata": {},
     "output_type": "execute_result"
    }
   ],
   "source": [
    "v.measure()"
   ]
  },
  {
   "cell_type": "markdown",
   "id": "2e2ac103-d85f-4f68-9732-351fbf11d131",
   "metadata": {},
   "source": [
    "Measurement outcomes are probabilistic, so the same method can return different results. Try runnin gthe cell a few times to see this."
   ]
  },
  {
   "cell_type": "code",
   "execution_count": 30,
   "id": "9e43b86b-c72a-491d-a97d-65a8cfaf7be1",
   "metadata": {},
   "outputs": [
    {
     "data": {
      "text/plain": [
       "{np.str_('0'): np.int64(567), np.str_('1'): np.int64(433)}"
      ]
     },
     "metadata": {},
     "output_type": "display_data"
    },
    {
     "data": {
      "image/png": "[encoded data removed]",
      "text/plain": [
       "<Figure size 640x480 with 1 Axes>"
      ]
     },
     "execution_count": 30,
     "metadata": {},
     "output_type": "execute_result"
    }
   ],
   "source": [
    "from qiskit.visualization import plot_histogram\n",
    "statistics = v.sample_counts(1000)\n",
    "display(statistics)\n",
    "plot_histogram(statistics)"
   ]
  },
  {
   "cell_type": "markdown",
   "id": "01055eda-b002-4251-a491-c2a2c9cc0080",
   "metadata": {},
   "source": [
    "Running the cell multiple times and trying different numbers of samples in place of 1000 may be helpful for developing intuition for how the number of trails influences the estimated probabilities."
   ]
  },
  {
   "cell_type": "markdown",
   "id": "a117459a-16a0-4c45-9a80-42233b740d0a",
   "metadata": {},
   "source": [
    "performing operations with operator and statevector"
   ]
  },
  {
   "cell_type": "markdown",
   "id": "cd96ae6e-b9b1-4f85-b0ff-16cbc236fe37",
   "metadata": {},
   "source": [
    "Unitary operations can be defined and performed on state vectors in Qiskit using the Operator class, as in the example that follows."
   ]
  },
  {
   "cell_type": "code",
   "execution_count": 37,
   "id": "24fbdf7b-2867-4ec2-b749-3dffc82fd4b1",
   "metadata": {},
   "outputs": [],
   "source": [
    "from qiskit.quantum_info import Operator"
   ]
  },
  {
   "cell_type": "code",
   "execution_count": 38,
   "id": "481ae58f-ce22-45e2-9a62-b7f66e7fdaac",
   "metadata": {},
   "outputs": [],
   "source": [
    "X = Operator([[0,1], [1,0]])\n",
    "Y = Operator([[0,-1.0j], [1.0j,0]])\n",
    "Z = Operator([[1,0], [0, -1]])\n",
    "H = Operator([[1/sqrt(2), 1/sqrt(2)], [1/sqrt(2) , -1/sqrt(2)]])\n",
    "S = Operator([[1,0], [0,1.0j]])\n",
    "T = Operator([[1,0], [0, (1+1.0j)/sqrt(2)]])"
   ]
  },
  {
   "cell_type": "raw",
   "id": "9d693b4d-1a2b-4068-b831-545f9bb829a4",
   "metadata": {},
   "source": [
    "v = Statevector([1,0])\n",
    "v = v.evolve(H)\n",
    "v = v.evolve(T)\n",
    "v = v.evolve(H)\n",
    "v = v.evolve(Z)"
   ]
  },
  {
   "cell_type": "code",
   "execution_count": 39,
   "id": "e8f7e91d-7583-4cc1-b4bd-c5e44d764f3f",
   "metadata": {},
   "outputs": [
    {
     "data": {
      "text/plain": [
       "[ 0.33333333+0.66666667j,-0.66666667+0.j        ]"
      ]
     },
     "execution_count": 39,
     "metadata": {},
     "output_type": "execute_result"
    }
   ],
   "source": [
    "v.draw(\"text\")"
   ]
  },
  {
   "cell_type": "code",
   "execution_count": 40,
   "id": "1bdeb519-ebbe-4b4b-9d57-5ac6815014a8",
   "metadata": {},
   "outputs": [],
   "source": [
    "from qiskit import QuantumCircuit"
   ]
  },
  {
   "cell_type": "code",
   "execution_count": 41,
   "id": "6e10ce52-9b27-48de-a656-022e2f818723",
   "metadata": {},
   "outputs": [],
   "source": [
    "circuit = QuantumCircuit(1)"
   ]
  },
  {
   "cell_type": "code",
   "execution_count": 42,
   "id": "b207b5f5-6b30-48e7-802e-9d698c39d7b9",
   "metadata": {},
   "outputs": [
    {
     "data": {
      "text/plain": [
       "<qiskit.circuit.instructionset.InstructionSet at 0x2741dd89de0>"
      ]
     },
     "execution_count": 42,
     "metadata": {},
     "output_type": "execute_result"
    }
   ],
   "source": [
    "circuit.h(0)\n",
    "circuit.t(0)\n",
    "circuit.h(0)\n",
    "circuit.t(0)\n",
    "circuit.z(0)"
   ]
  },
  {
   "cell_type": "code",
   "execution_count": 43,
   "id": "125298d5-4ef7-47a3-aeed-3208efaabae2",
   "metadata": {},
   "outputs": [
    {
     "data": {
      "text/html": [
       "<pre style=\"word-wrap: normal;white-space: pre;background: #fff0;line-height: 1.1;font-family: &quot;Courier New&quot;,Courier,monospace\">   ┌───┐┌───┐┌───┐┌───┐┌───┐\n",
       "q: ┤ H ├┤ T ├┤ H ├┤ T ├┤ Z ├\n",
       "   └───┘└───┘└───┘└───┘└───┘</pre>"
      ],
      "text/plain": [
       "   ┌───┐┌───┐┌───┐┌───┐┌───┐\n",
       "q: ┤ H ├┤ T ├┤ H ├┤ T ├┤ Z ├\n",
       "   └───┘└───┘└───┘└───┘└───┘"
      ]
     },
     "execution_count": 43,
     "metadata": {},
     "output_type": "execute_result"
    }
   ],
   "source": [
    "circuit.draw()"
   ]
  },
  {
   "cell_type": "code",
   "execution_count": 45,
   "id": "acf17172-3ad8-462e-a78e-eeb2d05fdfdb",
   "metadata": {},
   "outputs": [
    {
     "data": {
      "image/png": "[encoded data removed]",
      "text/plain": [
       "<Figure size 519.897x117.056 with 1 Axes>"
      ]
     },
     "execution_count": 45,
     "metadata": {},
     "output_type": "execute_result"
    }
   ],
   "source": [
    "circuit.draw('mpl')"
   ]
  },
  {
   "cell_type": "markdown",
   "id": "fc0e8130-311f-4434-94b4-1c3c06ce1c1a",
   "metadata": {},
   "source": [
    "The operations are applied sequentially, starting on the left and ending on the right in the figure. Let us first initialize a starting quantum state vector and then evolve that state according to the sequence of operations"
   ]
  },
  {
   "cell_type": "code",
   "execution_count": 46,
   "id": "650772ec-9116-4449-8503-c6879b4d6929",
   "metadata": {},
   "outputs": [
    {
     "data": {
      "text/plain": [
       "[ 0.85355339+0.35355339j,-0.35355339+0.14644661j]"
      ]
     },
     "execution_count": 46,
     "metadata": {},
     "output_type": "execute_result"
    }
   ],
   "source": [
    "ket0 = Statevector([1,0])\n",
    "v = ket0.evolve(circuit)\n",
    "v.draw(\"text\")"
   ]
  },
  {
   "cell_type": "markdown",
   "id": "c692d9ee-7670-4b92-9d68-b4873d29530b",
   "metadata": {},
   "source": [
    "Finally, lets simulate the result of running this experiment (preparing the state ket Zero , applying the sequence of operations represented by the circuit, and measuring) 4000 times"
   ]
  },
  {
   "cell_type": "code",
   "execution_count": 47,
   "id": "8e3a4ede-9c00-4b3d-9cbd-59f470dfe8d2",
   "metadata": {},
   "outputs": [
    {
     "data": {
      "image/png": "[encoded data removed]",
      "text/plain": [
       "<Figure size 640x480 with 1 Axes>"
      ]
     },
     "execution_count": 47,
     "metadata": {},
     "output_type": "execute_result"
    }
   ],
   "source": [
    "statistics = v.sample_counts(4000)\n",
    "plot_histogram(statistics)"
   ]
  },
  {
   "cell_type": "code",
   "execution_count": 2,
   "id": "c27f3d72-7b2d-4ce6-8f6a-60b773e8fc70",
   "metadata": {},
   "outputs": [
    {
     "ename": "NameError",
     "evalue": "name 'Aer' is not defined",
     "output_type": "error",
     "traceback": [
      "\u001b[1;31m---------------------------------------------------------------------------\u001b[0m",
      "\u001b[1;31mNameError\u001b[0m                                 Traceback (most recent call last)",
      "Cell \u001b[1;32mIn[2], line 1\u001b[0m\n\u001b[1;32m----> 1\u001b[0m Aer\u001b[38;5;241m.\u001b[39mbackends()\n",
      "\u001b[1;31mNameError\u001b[0m: name 'Aer' is not defined"
     ]
    }
   ],
   "source": [
    "Aer.backends()"
   ]
  },
  {
   "cell_type": "code",
   "execution_count": null,
   "id": "dc05fe58-5556-468a-9964-230fa01398cb",
   "metadata": {},
   "outputs": [],
   "source": []
  }
 ],
 "metadata": {
  "kernelspec": {
   "display_name": "Python 3 (ipykernel)",
   "language": "python",
   "name": "python3"
  },
  "language_info": {
   "codemirror_mode": {
    "name": "ipython",
    "version": 3
   },
   "file_extension": ".py",
   "mimetype": "text/x-python",
   "name": "python",
   "nbconvert_exporter": "python",
   "pygments_lexer": "ipython3",
   "version": "3.12.8"
  }
 },
 "nbformat": 4,
 "nbformat_minor": 5
}
